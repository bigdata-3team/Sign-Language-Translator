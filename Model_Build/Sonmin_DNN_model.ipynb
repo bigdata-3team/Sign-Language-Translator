{
 "cells": [
  {
   "cell_type": "code",
   "execution_count": 17,
   "metadata": {},
   "outputs": [],
   "source": [
    "import pandas as pd\n",
    "from pandas import DataFrame\n",
    "import numpy as np\n",
    "import matplotlib.pyplot as plt"
   ]
  },
  {
   "cell_type": "code",
   "execution_count": 18,
   "metadata": {},
   "outputs": [],
   "source": [
    "import tensorflow as tf"
   ]
  },
  {
   "cell_type": "code",
   "execution_count": 11,
   "metadata": {},
   "outputs": [
    {
     "data": {
      "text/html": [
       "<div>\n",
       "<style scoped>\n",
       "    .dataframe tbody tr th:only-of-type {\n",
       "        vertical-align: middle;\n",
       "    }\n",
       "\n",
       "    .dataframe tbody tr th {\n",
       "        vertical-align: top;\n",
       "    }\n",
       "\n",
       "    .dataframe thead th {\n",
       "        text-align: right;\n",
       "    }\n",
       "</style>\n",
       "<table border=\"1\" class=\"dataframe\">\n",
       "  <thead>\n",
       "    <tr style=\"text-align: right;\">\n",
       "      <th></th>\n",
       "      <th>번호</th>\n",
       "      <th>언어 제공자 ID</th>\n",
       "      <th>취득연도</th>\n",
       "      <th>방향</th>\n",
       "      <th>타입(단어/문장)</th>\n",
       "      <th>파일명</th>\n",
       "      <th>한국어</th>\n",
       "    </tr>\n",
       "  </thead>\n",
       "  <tbody>\n",
       "    <tr>\n",
       "      <th>0</th>\n",
       "      <td>419</td>\n",
       "      <td>1</td>\n",
       "      <td>2017</td>\n",
       "      <td>정면</td>\n",
       "      <td>단어</td>\n",
       "      <td>KETI_SL_0000000419.MOV</td>\n",
       "      <td>화재</td>\n",
       "    </tr>\n",
       "    <tr>\n",
       "      <th>1</th>\n",
       "      <td>838</td>\n",
       "      <td>1</td>\n",
       "      <td>2017</td>\n",
       "      <td>측면</td>\n",
       "      <td>단어</td>\n",
       "      <td>KETI_SL_0000000838.MTS</td>\n",
       "      <td>화재</td>\n",
       "    </tr>\n",
       "    <tr>\n",
       "      <th>2</th>\n",
       "      <td>1255</td>\n",
       "      <td>2</td>\n",
       "      <td>2017</td>\n",
       "      <td>정면</td>\n",
       "      <td>단어</td>\n",
       "      <td>KETI_SL_0000001255.MTS</td>\n",
       "      <td>화재</td>\n",
       "    </tr>\n",
       "    <tr>\n",
       "      <th>3</th>\n",
       "      <td>1674</td>\n",
       "      <td>2</td>\n",
       "      <td>2017</td>\n",
       "      <td>측면</td>\n",
       "      <td>단어</td>\n",
       "      <td>KETI_SL_0000001674.MTS</td>\n",
       "      <td>화재</td>\n",
       "    </tr>\n",
       "    <tr>\n",
       "      <th>4</th>\n",
       "      <td>2032</td>\n",
       "      <td>3</td>\n",
       "      <td>2017</td>\n",
       "      <td>정면</td>\n",
       "      <td>단어</td>\n",
       "      <td>KETI_SL_0000002032.MOV</td>\n",
       "      <td>화재</td>\n",
       "    </tr>\n",
       "    <tr>\n",
       "      <th>...</th>\n",
       "      <td>...</td>\n",
       "      <td>...</td>\n",
       "      <td>...</td>\n",
       "      <td>...</td>\n",
       "      <td>...</td>\n",
       "      <td>...</td>\n",
       "      <td>...</td>\n",
       "    </tr>\n",
       "    <tr>\n",
       "      <th>10475</th>\n",
       "      <td>6286</td>\n",
       "      <td>8</td>\n",
       "      <td>2017</td>\n",
       "      <td>측면</td>\n",
       "      <td>단어</td>\n",
       "      <td>KETI_SL_0000006286.MTS</td>\n",
       "      <td>0</td>\n",
       "    </tr>\n",
       "    <tr>\n",
       "      <th>10476</th>\n",
       "      <td>6705</td>\n",
       "      <td>9</td>\n",
       "      <td>2017</td>\n",
       "      <td>정면</td>\n",
       "      <td>단어</td>\n",
       "      <td>KETI_SL_0000006705.MOV</td>\n",
       "      <td>0</td>\n",
       "    </tr>\n",
       "    <tr>\n",
       "      <th>10477</th>\n",
       "      <td>7124</td>\n",
       "      <td>9</td>\n",
       "      <td>2017</td>\n",
       "      <td>측면</td>\n",
       "      <td>단어</td>\n",
       "      <td>KETI_SL_0000007124.MTS</td>\n",
       "      <td>0</td>\n",
       "    </tr>\n",
       "    <tr>\n",
       "      <th>10478</th>\n",
       "      <td>7543</td>\n",
       "      <td>10</td>\n",
       "      <td>2017</td>\n",
       "      <td>정면</td>\n",
       "      <td>단어</td>\n",
       "      <td>KETI_SL_0000007543.MOV</td>\n",
       "      <td>0</td>\n",
       "    </tr>\n",
       "    <tr>\n",
       "      <th>10479</th>\n",
       "      <td>7962</td>\n",
       "      <td>10</td>\n",
       "      <td>2017</td>\n",
       "      <td>측면</td>\n",
       "      <td>단어</td>\n",
       "      <td>KETI_SL_0000007962.MTS</td>\n",
       "      <td>0</td>\n",
       "    </tr>\n",
       "  </tbody>\n",
       "</table>\n",
       "<p>10480 rows × 7 columns</p>\n",
       "</div>"
      ],
      "text/plain": [
       "         번호  언어 제공자 ID  취득연도  방향 타입(단어/문장)                     파일명 한국어\n",
       "0       419          1  2017  정면        단어  KETI_SL_0000000419.MOV  화재\n",
       "1       838          1  2017  측면        단어  KETI_SL_0000000838.MTS  화재\n",
       "2      1255          2  2017  정면        단어  KETI_SL_0000001255.MTS  화재\n",
       "3      1674          2  2017  측면        단어  KETI_SL_0000001674.MTS  화재\n",
       "4      2032          3  2017  정면        단어  KETI_SL_0000002032.MOV  화재\n",
       "...     ...        ...   ...  ..       ...                     ...  ..\n",
       "10475  6286          8  2017  측면        단어  KETI_SL_0000006286.MTS   0\n",
       "10476  6705          9  2017  정면        단어  KETI_SL_0000006705.MOV   0\n",
       "10477  7124          9  2017  측면        단어  KETI_SL_0000007124.MTS   0\n",
       "10478  7543         10  2017  정면        단어  KETI_SL_0000007543.MOV   0\n",
       "10479  7962         10  2017  측면        단어  KETI_SL_0000007962.MTS   0\n",
       "\n",
       "[10480 rows x 7 columns]"
      ]
     },
     "execution_count": 11,
     "metadata": {},
     "output_type": "execute_result"
    }
   ],
   "source": [
    "dataset_annotation = pd.read_excel(\"수어_데이터셋_어노테이션.xlsx\")\n",
    "dataset_annotation"
   ]
  },
  {
   "cell_type": "code",
   "execution_count": 12,
   "metadata": {},
   "outputs": [],
   "source": [
    "unique = dataset_annotation[\"한국어\"].unique()"
   ]
  },
  {
   "cell_type": "code",
   "execution_count": 13,
   "metadata": {},
   "outputs": [
    {
     "data": {
      "text/plain": [
       "array(['화재', '화장실', '화요일', '화약', '화상을 입었어요', '화상', '홍수가 나서 집이 물에 잠기고 있어요',\n",
       "       '홍수', '호흡기', '호흡곤란', '형', '협박', '현관앞', '현관', '허벅지',\n",
       "       '허리가 아파서 일어날 수 없어요', '허리', '해파리에게 쏘였어요', '해열제', '해안가에 해파리가 나타났어요',\n",
       "       '해안가에 상어가 나타났어요', '해독제', '해(연)', '함몰되다', '할아버지', '할머니가 갑자기 쓰러지셨어요',\n",
       "       '할머니', '학생', '학교', '피나다', '폭행', '폭탄이 터졌어요', '폭탄', '폭우', '폭발',\n",
       "       '팔꿈치', '팔', '파편', '파도', '트럭', '트랙터', '통학버스', '토하다', '토요일',\n",
       "       '터널이 무너져 갇혔어요', '택시', '탈골', '코', '칼', '침수',\n",
       "       '친구가 음식을 먹다가 실수로 방부제를 같이 먹었어요', '친구가 숨을 안 쉬는 것 같아요',\n",
       "       '친구가 감전 사고를 당했어요', '친구', '출혈', '출산', '축사', '추락', '총', '체온계',\n",
       "       '창백하다', '창문', '차안', '차밖', '차 안에 강아지가 방치되어있어요', '쫓아오는 것 같아요',\n",
       "       '집이 흔들려요', '집에 전기가 나갔어요', '집에 불이 났어요', '집에 모르는 사람이 침입했어요',\n",
       "       '집에 도둑(강도)이 들어왔어요', '집단폭행', '집 벽이 무너질려고 해요', '집', '질식', '진통제',\n",
       "       '지혈대', '지하철 역 안에서 화재가 발생했어요', '지난', '중랑구', '중구',\n",
       "       '주변 구조물이 무너져서 몸이 끼었어요 몸을 움직이지 못하겠어요', '주', '종로구', '조난', '제초제',\n",
       "       '절도', '절단', '장단지', '장난감', '작은방', '작년', '자상', '자살', '자동차', '임신한아내',\n",
       "       '임산부', '일요일', '인대', '이웃집', '이상한사람', '이상한 사람이 저를 쫓아와요', '이번', '이물질',\n",
       "       '이마', '의사', '응급처리', '응급대원', '음식을 하다가 손가락을 칼에 베였어요', '음식물', '은평구',\n",
       "       '유치원 버스', '유치원', '유리가 깨져서 발을 다쳤어요', '유리', '윗집에 불이 났어요', '윗집사람',\n",
       "       '윗집', '위협', '위에', '위', '월요일', '운동장', '우리집', '우리아이가 갑자기 의식을 잃었어요',\n",
       "       '우리 집에 불이 났어요', '용산구', '욕실', '왼쪽-눈', '왼쪽-귀', '왼쪽', '올해', '옥상',\n",
       "       '오빠', '오른쪽-눈', '오른쪽-귀', '오른쪽', '오늘', '옆쪽', '옆집에 불이 났어요', '옆집사람',\n",
       "       '옆집 할아버지', '옆집 아저씨', '옆집', '영등포구', '엽총', '열어주세요', '열나다', '열',\n",
       "       '연락해주세요', '연기', '여학생', '여자친구',\n",
       "       '여기 서대문구 홍제동 한양아파트인데 옥상에서 사람이 떨어지려고해요', '엘리베이터가 갑자기 중간에 멈췄어요',\n",
       "       '엘리베이터', '엄마가 신장병에 있는데 쓰러지셨어요', '엄마', '얼굴', '언니',\n",
       "       '어지러워서 서있을 수 없어요', '어지러움', '어제', '어린이', '어떤 사람한테 납치당했어요',\n",
       "       '어떤 사람이 칼에 찔려서 피를 많이 흘리고 있어요', '어떤 사람이 칼로 위협하고 있어요',\n",
       "       '어떤 사람이 집단폭력을 당하고 있어요', '어떤 사람이 저를 죽이려고 해요', '어떤 사람이 자살을 시도하고 있어요',\n",
       "       '어떤 사람이 벼락을 맞았어요', '어떤 사람이 바다에 빠졌어요', '어떤 사람이 무기 흉기를 소지하고 있어요',\n",
       "       '어떤 사람이 길거리에서 피를 많이 흘리고 있어요', '어떤 사람이 교통사고를 당했어요',\n",
       "       '어떤 사람이 건물에서 추락했어요', '어디선가 연기가 나요 불이 나고 있는 것 같아요', '어깨', '양천구',\n",
       "       '약사', '약국', '앞집', '앞', '알려주세요', '안방', '아파트', '아파서 못 참을것 같아요',\n",
       "       '아줌마', '아저씨', '아이를 모르는 사람이 데려갔어요', '아이를 공원에서 잃어버렸어요', '아이들',\n",
       "       '아이가 장난감을 삼켰어요', '아이가 방에 갇혔어요', '아이가 말벌에 쏘여서 기절했어요',\n",
       "       '아이가 독극물을 삼켰어요', '아빠', '아랫집에 불이 났어요', '아래',\n",
       "       '아들이 놀이터에서 놀다가 팔이 부러졌어요', '아들', '아내가 쓰러졌어요', '아내', '아기를 낳을것 같아요',\n",
       "       '아기가 장난감을 삼켰어요', '아기가 숨을 안 쉬어요', '아기가 갑자기 토해요', '아기', '쓰러지다',\n",
       "       '심장마비', '신고하세요(경찰)', '식사를 하다가 목에 음식이 걸렸어요', '시청',\n",
       "       '스키를 타다가 넘어져서 못 일어나겠어요', '숨이 안 쉬어져요', '숨을안쉬다', '술취한 사람',\n",
       "       '술 취한 사람이 방망이로 사람들을 때리고 있어요', '수요일', '수영장', '송파구', '손목', '손가락',\n",
       "       '손', '소화전', '소화기', '소방차', '소방관', '세브란스 병원 진료 예약을 해주세요', '성폭행',\n",
       "       '성북구', '성동구', '선생님', '선반', '서초구', '서울시', '서랍', '서대문구', '삼키다', '살해',\n",
       "       '살충제', '산에서 야생동물을 만났어요 저를 공격할 것 같아요', '산에서 뱀에게 물렸어요', '산', '사이',\n",
       "       '사람이 무거운 물건에 깔렸어요', '뼈', '빨리 와주세요', '빨리 도와주세요', '빌라',\n",
       "       '비행기가 추락하고 있어요', '비상약', '비닐하우스', '붕대', '붕괴', '불나다', '불', '부엌',\n",
       "       '부러지다', '볼', '복통이 심해요', '복통', '복부', '보내주세요(구급차)', '보내주세요(경찰)',\n",
       "       '보건소', '병원', '벼락', '범람', '벌', '뱀', '배고프다', '배가 침몰하고 있어요', '배', '밭',\n",
       "       '방망이', '발작', '발목을 접질렀어요', '발목', '발가락', '발', '반점생기다',\n",
       "       '밖에 싸움이 났어요 경찰을 불러주세요', '밖에 불이 났어요. 소방차를 불러주세요',\n",
       "       '밖에 모르는 사람이 서성거려요', '바다에서 조난을 당했어요', '바다', '밑에', '물', '문틈',\n",
       "       '문에 몸이 끼었어요', '무릎 인대를 다친 것 같아요', '무릎', '무너지다', '몸이 결박 당해있어요',\n",
       "       '몸에 열이 많이 나고 두통이 심해요', '목요일', '목', '멧돼지', '머리', '맹견', '말벌에게 쏘였어요',\n",
       "       '말벌', '말려주세요', '마포구', '마당', '뜨거운물', '떨어지다', '딸', '등', '뒤통수', '뒤',\n",
       "       '두드러기생기다', '동전', '동작구', '동생이 문틈에 손이 끼었어요', '동생', '동대문구', '독사',\n",
       "       '독버섯을 먹은 것 같아요', '독버섯', '독극물', '도와주세요!', '도봉구', '도로', '도둑', '대문앞',\n",
       "       '달(월)', '다음', '다리', '눈에 이물질이 들어갔어요', '눈', '누출', '누전', '누수', '누나',\n",
       "       '농약', '놀이터', '논', '노원구', '너무 아파요', '냄새나다', '내일', '내년',\n",
       "       '내가 방에 갇혔어요', '낯선여자', '낯선사람', '낯선남자', '낫', '납치', '남학생',\n",
       "       '남편이 높은데서 떨어져서 머리에서 피나요', '남편', '남자친구', '끓는물', '깔리다', '기절하다', '기절',\n",
       "       '급류에 친구가 휩쓸렸어요', '급류', '금천구', '금요일', '금가다', '근처에서 폭탄이 터졌어요',\n",
       "       '근처에 있는 건물이 붕괴되고 있어요', '귀', '구해주세요', '구청', '구로구', '구급차', '구급대원',\n",
       "       '구급대', '교통사고', '광진구', '광견병에 걸린 개에게 물렸어요', '관악구', '공장', '공원', '공사장',\n",
       "       '곰', '골절', '고장', '고열', '고압전선', '고압선이 끊어져 있어요',\n",
       "       '고속도로에서 자동차가 갑자기 멈췄어요', '고속도로', '계단', '계곡', '경찰차', '경찰', '경운기',\n",
       "       '결박', '걸렸다', '거실', '개', '강풍', '강아지가 뼈를 삼켰어요', '강서구', '강북구', '강동구',\n",
       "       '강도가 들어온것 같아요', '강남구', '강', '감전 사고가 났어요', '감전', '감금', '갇히다', '각목',\n",
       "       '가시', '가슴', '가스가 새고 있어요', '가스가 새고 있는 것 같아요', '가스', '가렵다',\n",
       "       '119 구조대를 불러주세요', '112에 신고해주세요', '(신체부위)가 절단됐어요',\n",
       "       '(사람)이 갑자기 쓰러졌어요', 10000, 1000, 119, 112, 100, 99, 98, 97, 96, 95,\n",
       "       93, 94, 92, 91, 90, 89, 88, 87, 86, 85, 84, 83, 82, 81, 80, 79, 78,\n",
       "       77, 76, 75, 74, 73, 72, 71, 70, 69, 68, 67, 66, 65, 64, 63, 62, 61,\n",
       "       60, 59, 58, 57, 56, 55, 54, 53, 52, 51, 50, 48, 49, 47, 46, 45, 44,\n",
       "       43, 42, 41, 40, 39, 38, 37, 36, 35, 34, 33, 32, 31, 30, 29, 28, 27,\n",
       "       26, 25, 24, 23, 22, 21, 20, 19, 18, 17, 16, 15, 14, 13, 12, 11, 10,\n",
       "       9, 8, 7, 6, 5, 4, 3, 2, 1, 0], dtype=object)"
      ]
     },
     "execution_count": 13,
     "metadata": {},
     "output_type": "execute_result"
    }
   ],
   "source": [
    "unique"
   ]
  },
  {
   "cell_type": "code",
   "execution_count": 14,
   "metadata": {},
   "outputs": [
    {
     "data": {
      "text/plain": [
       "(524,)"
      ]
     },
     "execution_count": 14,
     "metadata": {},
     "output_type": "execute_result"
    }
   ],
   "source": [
    "unique.shape"
   ]
  },
  {
   "cell_type": "code",
   "execution_count": null,
   "metadata": {},
   "outputs": [],
   "source": [
    "import tensorflow as tf\n",
    "\n",
    "def CNN_LSTM(input_shape, classes):\n",
    "    cnn = tf.keras.models.Sequential()\n",
    "    cnn.add(tf.keras.layers.Conv2D(32, (3, 3), activation=\"relu\", input_shape=input_shape))\n",
    "    cnn.add(tf.keras.layers.Maxpooling2D(pool_size=(2,2), strides=(2, 2)))\n",
    "    cnn.add(tf.keras.layers.Conv2D(64, (3, 3), activation=\"relu\"))\n",
    "    cnn.add(tf.keras.layers.MaxPooling2D(pool_size=(2,2), strides=(2, 2)))\n",
    "    cnn.add(tf.keras.layers.Flatten())\n",
    "    \n",
    "    model.add(TimeDistributed(cnn))\n",
    "\n",
    "    \n",
    "    \n",
    "inputs = tf.keras.Input(shape=(10, 128, 128, 3))\n",
    "conv_2d_layer = tf.keras.layers.Conv2D(64, (3, 3))\n",
    "outputs = tf.keras.layers.TimeDistributed(conv_2d_layer)(inputs)\n",
    "outputs.shape\n",
    "# define LSTM model\n",
    "model = Sequential()\n",
    "model.add(TimeDistributed(cnn, ...))\n",
    "model.add(LSTM(..))\n",
    "model.add(Dense(...))\n",
    "\n",
    "\n",
    "    model.add(tf.keras.layers.Dense(500, activation = \"relu\"))\n",
    "    model.add(tf.keras.layers.Dense(classes, activation = \"softmax\"))\n",
    "    return model"
   ]
  },
  {
   "cell_type": "code",
   "execution_count": null,
   "metadata": {},
   "outputs": [],
   "source": []
  },
  {
   "cell_type": "code",
   "execution_count": 23,
   "metadata": {},
   "outputs": [],
   "source": [
    "input_dim = 1\n",
    "seq_max_len = 4\n",
    "out_dim = 1"
   ]
  },
  {
   "cell_type": "code",
   "execution_count": 26,
   "metadata": {},
   "outputs": [],
   "source": [
    "def generate_data(count=1000, max_length=4, dim=1):\n",
    "    x = np.random.randint(0, 10, size=(count, max_length, dim))\n",
    "    length = np.random.randint(1, max_length+1, count)\n",
    "    for i in range(count):\n",
    "        x[i, length[i]:, :] = 0\n",
    "    y = np.sum(x, axis=1)\n",
    "    return x, y, length"
   ]
  },
  {
   "cell_type": "code",
   "execution_count": 27,
   "metadata": {},
   "outputs": [
    {
     "name": "stdout",
     "output_type": "stream",
     "text": [
      "Size of:\n",
      "- Training-set:\t\t1000\n",
      "- Test-set:\t5\n"
     ]
    }
   ],
   "source": [
    "x_train, y_train, seq_len_train = generate_data(count=1000, max_length=seq_max_len, dim=input_dim)\n",
    "x_test, y_test, seq_len_test = generate_data(count=5, max_length=seq_max_len, dim=input_dim)\n",
    "\n",
    "print(\"Size of:\")\n",
    "print(\"- Training-set:\\t\\t{}\".format(len(y_train)))\n",
    "print(\"- Test-set:\\t{}\".format(len(y_test)))"
   ]
  },
  {
   "cell_type": "code",
   "execution_count": 31,
   "metadata": {},
   "outputs": [],
   "source": [
    "def next_batch(x, y, seq_len, batch_size):\n",
    "    N = x.shape[0]\n",
    "    batch_indeces = np.random.permutation(N)[:batch_size]\n",
    "    x_batch = x[batch_indeces]\n",
    "    y_batch = y[batch_indeces]\n",
    "    seq_len_batch = seq_len[batch_indeces]\n",
    "    return x_batch, y_batch, seq_len_batch"
   ]
  },
  {
   "cell_type": "code",
   "execution_count": 32,
   "metadata": {},
   "outputs": [],
   "source": [
    "# Parameters\n",
    "learning_rate = 0.01    # The optimization initial learning rate\n",
    "training_steps = 10000  # Total number of training steps\n",
    "batch_size = 10         # batch size\n",
    "display_freq = 1000     # Frequency of displaying the training results"
   ]
  },
  {
   "cell_type": "code",
   "execution_count": 33,
   "metadata": {},
   "outputs": [],
   "source": [
    "num_hidden_units = 10   # number of hidden units"
   ]
  },
  {
   "cell_type": "markdown",
   "metadata": {},
   "source": [
    "#  RNN models in Tensorflow\n",
    "- 기본적인 input data 구조 : (batch size, time steps, input length)\n",
    " > one, many의 의미는 time steps 와 관련 ex) many-to-one : 입력의 time steps > 1 / 출력의 time steps == 1\n",
    " - Many-to-One : input 형태 - (batch size, t, input length), t > 1 / output 형태 (batch size, 1, 1)\n"
   ]
  },
  {
   "cell_type": "code",
   "execution_count": null,
   "metadata": {},
   "outputs": [],
   "source": [
    "import tensorflow as tf\n",
    "\n",
    "def CNN_LSTM(input_shape, classes):\n",
    "    cnn = tf.keras.models.Sequential()\n",
    "    cnn.add(tf.keras.layers.Conv2D(32, (3, 3), activation=\"relu\", input_shape=input_shape))\n",
    "    cnn.add(tf.keras.layers.Maxpooling2D(pool_size=(2,2), strides=(2, 2)))\n",
    "    cnn.add(tf.keras.layers.Conv2D(64, (3, 3), activation=\"relu\"))\n",
    "    cnn.add(tf.keras.layers.MaxPooling2D(pool_size=(2,2), strides=(2, 2)))\n",
    "    cnn.add(tf.keras.layers.Flatten())\n",
    "    \n",
    "    model = tf.keras.models.Sequential()\n",
    "    model.add(tf.keras.layers.TimeDistributed(cnn))\n",
    "    model.add(tf.keras.layers.Bidirectional(tf.keras.layers.LSTM(1000, activation = \"tanh\")))\n",
    "    model.add(tf.keras.Dense(classes, activation = \"softmax\"))\n",
    "    return model\n",
    "\n",
    "\n",
    "classes = 524"
   ]
  },
  {
   "cell_type": "code",
   "execution_count": 8,
   "metadata": {},
   "outputs": [
    {
     "data": {
      "text/plain": [
       "TensorShape([None, 10, 126, 126, 64])"
      ]
     },
     "execution_count": 8,
     "metadata": {},
     "output_type": "execute_result"
    }
   ],
   "source": [
    "inputs = tf.keras.Input(shape=(10, 128, 128, 3))\n",
    "conv_2d_layer = tf.keras.layers.Conv2D(64, (3, 3))\n",
    "outputs = tf.keras.layers.TimeDistributed(conv_2d_layer)(inputs)\n",
    "outputs.shape"
   ]
  },
  {
   "cell_type": "code",
   "execution_count": 13,
   "metadata": {},
   "outputs": [],
   "source": [
    "import tensorflow as tf\n",
    "\n",
    "inputs = tf.keras.Input(shape=(10, 128, 128, 3))\n",
    "input_shape = (10, 128, 128, 3)\n",
    "classes = 524\n",
    "inputs = tf.keras.Input(shape = input_shape)\n",
    "conv1 = tf.keras.layers.Conv2D(32, (3, 3), activation=\"relu\")\n",
    "layer_conv1 = tf.keras.layers.TimeDistributed(conv1)(inputs)\n",
    "maxpool1 = tf.keras.layers.MaxPooling2D(pool_size=(2,2), strides=(2, 2))\n",
    "layer_maxpool1 = tf.keras.layers.TimeDistributed(maxpool1)(layer_conv1)\n",
    "conv2 = tf.keras.layers.Conv2D(64, (3, 3), activation=\"relu\")\n",
    "layer_conv2 = tf.keras.layers.TimeDistributed(conv2)(layer_maxpool1)\n",
    "maxpool2 = tf.keras.layers.MaxPooling2D(pool_size=(2,2), strides=(2, 2))\n",
    "layer_maxpool2 = tf.keras.layers.TimeDistributed(maxpool2)(layer_conv2)\n",
    "flatten = tf.keras.layers.Flatten()\n",
    "layer_flatten = tf.keras.layers.TimeDistributed(flatten)(layer_maxpool2)\n",
    "layer_lstm = tf.keras.layers.Bidirectional(tf.keras.layers.LSTM(1000, activation='tanh'))(layer_flatten)\n",
    "outputs = tf.keras.layers.Dense(classes, activation=\"softmax\")(layer_lstm)\n",
    "model = tf.keras.models.Model(inputs = inputs, outputs = outputs)"
   ]
  },
  {
   "cell_type": "code",
   "execution_count": 14,
   "metadata": {},
   "outputs": [
    {
     "name": "stdout",
     "output_type": "stream",
     "text": [
      "Model: \"model\"\n",
      "_________________________________________________________________\n",
      "Layer (type)                 Output Shape              Param #   \n",
      "=================================================================\n",
      "input_12 (InputLayer)        [(None, 10, 128, 128, 3)] 0         \n",
      "_________________________________________________________________\n",
      "time_distributed_18 (TimeDis (None, 10, 126, 126, 32)  896       \n",
      "_________________________________________________________________\n",
      "time_distributed_19 (TimeDis (None, 10, 63, 63, 32)    0         \n",
      "_________________________________________________________________\n",
      "time_distributed_20 (TimeDis (None, 10, 61, 61, 64)    18496     \n",
      "_________________________________________________________________\n",
      "time_distributed_21 (TimeDis (None, 10, 30, 30, 64)    0         \n",
      "_________________________________________________________________\n",
      "time_distributed_22 (TimeDis (None, 10, 57600)         0         \n",
      "_________________________________________________________________\n",
      "bidirectional_2 (Bidirection (None, 2000)              468808000 \n",
      "_________________________________________________________________\n",
      "dense_1 (Dense)              (None, 524)               1048524   \n",
      "=================================================================\n",
      "Total params: 469,875,916\n",
      "Trainable params: 469,875,916\n",
      "Non-trainable params: 0\n",
      "_________________________________________________________________\n"
     ]
    }
   ],
   "source": [
    "model.summary()"
   ]
  },
  {
   "cell_type": "code",
   "execution_count": null,
   "metadata": {},
   "outputs": [],
   "source": [
    "model.compile(loss = \"MSE\", optimizer = \"adam\")\n",
    "model.fit(x, y, epochs = 100, batch_size = 1, verbose = 1)"
   ]
  }
 ],
 "metadata": {
  "kernelspec": {
   "display_name": "Python 3",
   "language": "python",
   "name": "python3"
  },
  "language_info": {
   "codemirror_mode": {
    "name": "ipython",
    "version": 3
   },
   "file_extension": ".py",
   "mimetype": "text/x-python",
   "name": "python",
   "nbconvert_exporter": "python",
   "pygments_lexer": "ipython3",
   "version": "3.7.7"
  }
 },
 "nbformat": 4,
 "nbformat_minor": 4
}
