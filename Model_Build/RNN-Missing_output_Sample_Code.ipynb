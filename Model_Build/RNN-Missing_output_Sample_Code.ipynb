{
 "cells": [
  {
   "cell_type": "markdown",
   "metadata": {},
   "source": [
    "### 다대일 방식의 감정 분석"
   ]
  },
  {
   "cell_type": "code",
   "execution_count": 1,
   "metadata": {},
   "outputs": [],
   "source": [
    "import numpy as np\n",
    "import os\n",
    "import shutil\n",
    "import tensorflow as tf\n",
    "from sklearn.metrics import accuracy_score, confusion_matrix"
   ]
  },
  {
   "cell_type": "code",
   "execution_count": 4,
   "metadata": {},
   "outputs": [],
   "source": [
    "def download_and_read(url):\n",
    "    local_file = url.split('/')[-1]\n",
    "    local_file = local_file.replace(\"%20\", \" \")\n",
    "    p = tf.keras.utils.get_file(local_file, url, extract = True, cache_dir = \".\")\n",
    "    local_folder = os.path.join(\"datasets\", local_file.split(\".\")[0])\n",
    "    labeled_sentences = []\n",
    "    for labeled_filename in os.listdir(local_folder):\n",
    "        if labeled_filename.endswith(\"_labelled.txt\"):\n",
    "            with open(os.path.join(local_folder, labeled_filename), \"r\") as f:\n",
    "                for line in f:\n",
    "                    sentence, label = line.strip().split('\\t')\n",
    "                    labeled_sentences.append((sentence, label))\n",
    "    return labeled_sentences"
   ]
  },
  {
   "cell_type": "code",
   "execution_count": 5,
   "metadata": {},
   "outputs": [
    {
     "name": "stdout",
     "output_type": "stream",
     "text": [
      "Downloading data from https://archive.ics.uci.edu/ml/machine-learning-databases/00331/sentiment%20labelled%20sentences.zip\n",
      "90112/84188 [================================] - 0s 3us/step\n"
     ]
    }
   ],
   "source": [
    "labeled_sentences = download_and_read(\"https://archive.ics.uci.edu/ml/machine-learning-databases/\" + \n",
    "                                     \"00331/sentiment%20labelled%20sentences.zip\")\n",
    "sentences = [s for (s, l) in labeled_sentences]\n",
    "labels = [int(l) for (s, l) in labeled_sentences]"
   ]
  },
  {
   "cell_type": "code",
   "execution_count": 6,
   "metadata": {},
   "outputs": [
    {
     "name": "stdout",
     "output_type": "stream",
     "text": [
      "vocabulary size: 5271\n"
     ]
    }
   ],
   "source": [
    "# 말뭉치의 단어를 정수로 매핑한 것을 어휘라고 한다. 따라서 문장을 토큰화하고 어휘를 만들어야 한다.\n",
    "tokenizer = tf.keras.preprocessing.text.Tokenizer()\n",
    "tokenizer.fit_on_texts(sentences)\n",
    "vocab_size = len(tokenizer.word_counts)\n",
    "print(\"vocabulary size: {:d}\".format(vocab_size))\n",
    "word2idx = tokenizer.word_index\n",
    "idx2word = {v:k for (k, v) in word2idx.items()}"
   ]
  },
  {
   "cell_type": "code",
   "execution_count": 8,
   "metadata": {},
   "outputs": [
    {
     "name": "stdout",
     "output_type": "stream",
     "text": [
      "[(75, 16.0), (80, 18.0), (90, 22.0), (95, 26.0), (99, 36.0), (100, 71.0)]\n"
     ]
    }
   ],
   "source": [
    "seq_lengths = np.array([len(s.split()) for s in sentences])\n",
    "print([(p, np.percentile(seq_lengths, p)) for p in [75, 80, 90, 95, 99, 100]])"
   ]
  },
  {
   "cell_type": "code",
   "execution_count": 9,
   "metadata": {},
   "outputs": [],
   "source": [
    "max_seqlen = 64\n",
    "\n",
    "sentences_as_ints = tokenizer.texts_to_sequences(sentences)\n",
    "sentences_as_ints = tf.keras.preprocessing.sequence.pad_sequences(sentences_as_ints, maxlen = max_seqlen)\n",
    "labels_as_ints = np.array(labels)\n",
    "dataset = tf.data.Dataset.from_tensor_slices((sentences_as_ints, labels_as_ints))"
   ]
  },
  {
   "cell_type": "code",
   "execution_count": 11,
   "metadata": {},
   "outputs": [],
   "source": [
    "dataset = dataset.shuffle(10000)\n",
    "test_size = len(sentences)//3\n",
    "\n",
    "val_size = (len(sentences) - test_size) // 10\n",
    "test_dataset = dataset.take(test_size)\n",
    "val_dataset = dataset.skip(test_size).take(val_size)\n",
    "train_dataset = dataset.skip(test_size + val_size)\n",
    "\n",
    "batch_size = 64\n",
    "train_dataset = train_dataset.batch(batch_size)\n",
    "val_dataset = val_dataset.batch(batch_size)\n",
    "test_dataset = test_dataset.batch(batch_size)"
   ]
  },
  {
   "cell_type": "code",
   "execution_count": 13,
   "metadata": {},
   "outputs": [
    {
     "name": "stdout",
     "output_type": "stream",
     "text": [
      "Model: \"sentiment_analysis_model_1\"\n",
      "_________________________________________________________________\n",
      "Layer (type)                 Output Shape              Param #   \n",
      "=================================================================\n",
      "embedding_1 (Embedding)      multiple                  337408    \n",
      "_________________________________________________________________\n",
      "bidirectional_1 (Bidirection multiple                  66048     \n",
      "_________________________________________________________________\n",
      "dense_2 (Dense)              multiple                  8256      \n",
      "_________________________________________________________________\n",
      "dense_3 (Dense)              multiple                  65        \n",
      "=================================================================\n",
      "Total params: 411,777\n",
      "Trainable params: 411,777\n",
      "Non-trainable params: 0\n",
      "_________________________________________________________________\n"
     ]
    }
   ],
   "source": [
    "class SentimentAnalysisModel(tf.keras.Model):\n",
    "    def __init__(self, vocab_size, max_seqlen, **kwargs):\n",
    "        super(SentimentAnalysisModel, self).__init__(**kwargs)\n",
    "        self.embedding = tf.keras.layers.Embedding(vocab_size, max_seqlen)\n",
    "        self.bilstm = tf.keras.layers.Bidirectional(tf.keras.layers.LSTM(max_seqlen))\n",
    "        self.dense = tf.keras.layers.Dense(64, activation = \"relu\")\n",
    "        self.out = tf.keras.layers.Dense(1, activation = \"sigmoid\")\n",
    "        \n",
    "    def call(self, x):\n",
    "        x = self.embedding(x)\n",
    "        x = self.bilstm(x)\n",
    "        x = self.dense(x)\n",
    "        out = self.out(x)\n",
    "        return out\n",
    "    \n",
    "model = SentimentAnalysisModel(vocab_size+1, max_seqlen)\n",
    "model.build(input_shape = (batch_size, max_seqlen))\n",
    "model.summary()"
   ]
  },
  {
   "cell_type": "code",
   "execution_count": 14,
   "metadata": {},
   "outputs": [],
   "source": [
    "model.compile(loss = \"binary_crossentropy\", optimizer = \"adam\", metrics = [\"accuracy\"])"
   ]
  },
  {
   "cell_type": "code",
   "execution_count": 18,
   "metadata": {},
   "outputs": [
    {
     "name": "stdout",
     "output_type": "stream",
     "text": [
      "Train for 29 steps, validate for 4 steps\n",
      "Epoch 1/10\n",
      "29/29 [==============================] - 3s 107ms/step - loss: 0.2037 - accuracy: 0.9206 - val_loss: 0.1581 - val_accuracy: 0.9400\n",
      "Epoch 2/10\n",
      "29/29 [==============================] - 3s 103ms/step - loss: 0.1508 - accuracy: 0.9467 - val_loss: 0.0836 - val_accuracy: 0.9800\n",
      "Epoch 3/10\n",
      "29/29 [==============================] - 3s 103ms/step - loss: 0.1096 - accuracy: 0.9650 - val_loss: 0.1037 - val_accuracy: 0.9700\n",
      "Epoch 4/10\n",
      "29/29 [==============================] - 3s 103ms/step - loss: 0.0607 - accuracy: 0.9811 - val_loss: 0.0555 - val_accuracy: 0.9800\n",
      "Epoch 5/10\n",
      "29/29 [==============================] - 3s 106ms/step - loss: 0.0714 - accuracy: 0.9794 - val_loss: 0.0156 - val_accuracy: 1.0000\n",
      "Epoch 6/10\n",
      "29/29 [==============================] - 3s 103ms/step - loss: 0.0393 - accuracy: 0.9906 - val_loss: 0.0400 - val_accuracy: 0.9850\n",
      "Epoch 7/10\n",
      "29/29 [==============================] - 3s 101ms/step - loss: 0.0294 - accuracy: 0.9967 - val_loss: 0.0189 - val_accuracy: 0.9950\n",
      "Epoch 8/10\n",
      "29/29 [==============================] - 3s 119ms/step - loss: 0.0282 - accuracy: 0.9944 - val_loss: 0.0167 - val_accuracy: 0.9900\n",
      "Epoch 9/10\n",
      "29/29 [==============================] - 3s 105ms/step - loss: 0.0227 - accuracy: 0.9939 - val_loss: 0.0380 - val_accuracy: 0.9950\n",
      "Epoch 10/10\n",
      "29/29 [==============================] - 3s 107ms/step - loss: 0.0227 - accuracy: 0.9956 - val_loss: 0.0137 - val_accuracy: 0.9900\n"
     ]
    }
   ],
   "source": [
    "logs_dir = os.path.join(\"./logs\")\n",
    "best_model_file = os.path.join(\"./best_model.h5\")\n",
    "checkpoint = tf.keras.callbacks.ModelCheckpoint(best_model_file, save_weights_only = True,\n",
    "                                               save_best_only = True)\n",
    "tensorboard = tf.keras.callbacks.TensorBoard(log_dir = logs_dir)\n",
    "num_epochs = 10\n",
    "history = model.fit(train_dataset, epochs = num_epochs, validation_data = val_dataset,\n",
    "                   callbacks = [checkpoint, tensorboard])"
   ]
  },
  {
   "cell_type": "code",
   "execution_count": null,
   "metadata": {},
   "outputs": [],
   "source": []
  },
  {
   "cell_type": "code",
   "execution_count": null,
   "metadata": {},
   "outputs": [],
   "source": []
  },
  {
   "cell_type": "code",
   "execution_count": null,
   "metadata": {},
   "outputs": [],
   "source": []
  }
 ],
 "metadata": {
  "kernelspec": {
   "display_name": "Python 3",
   "language": "python",
   "name": "python3"
  },
  "language_info": {
   "codemirror_mode": {
    "name": "ipython",
    "version": 3
   },
   "file_extension": ".py",
   "mimetype": "text/x-python",
   "name": "python",
   "nbconvert_exporter": "python",
   "pygments_lexer": "ipython3",
   "version": "3.7.7"
  }
 },
 "nbformat": 4,
 "nbformat_minor": 4
}
