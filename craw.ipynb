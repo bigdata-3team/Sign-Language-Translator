{
 "cells": [
  {
   "cell_type": "code",
   "execution_count": 1,
   "metadata": {},
   "outputs": [],
   "source": [
    "import time\n",
    "from selenium import webdriver\n",
    "import urllib.request\n",
    "import re\n",
    "from string import punctuation"
   ]
  },
  {
   "cell_type": "code",
   "execution_count": 2,
   "metadata": {},
   "outputs": [],
   "source": [
    "driver = webdriver.Chrome('/Users/SeongMin/chromedriver.exe')"
   ]
  },
  {
   "cell_type": "code",
   "execution_count": 14,
   "metadata": {
    "scrolled": true
   },
   "outputs": [
    {
     "name": "stdout",
     "output_type": "stream",
     "text": [
      "i 1\n",
      "10\n",
      "k 0\n",
      "http://sldict.korean.go.kr/multimedia/multimedia_files/convert/20160103/239422/MOV000249336_700X466.mp4 가감\n",
      "k 1\n",
      "http://sldict.korean.go.kr/multimedia/multimedia_files/convert/20160103/239423/MOV000249338_700X466.mp4 가건물\n",
      "k 2\n",
      "http://sldict.korean.go.kr/multimedia/multimedia_files/convert/20160103/239424/MOV000249340_700X466.mp4 가게\n",
      "k 3\n",
      "http://sldict.korean.go.kr/multimedia/multimedia_files/convert/20160924/345535/MOV000243762_700X466.mp4 가격\n"
     ]
    },
    {
     "ename": "KeyboardInterrupt",
     "evalue": "",
     "output_type": "error",
     "traceback": [
      "\u001b[1;31m---------------------------------------------------------------------------\u001b[0m",
      "\u001b[1;31mKeyboardInterrupt\u001b[0m                         Traceback (most recent call last)",
      "\u001b[1;32m<ipython-input-14-bc3e0f92b49b>\u001b[0m in \u001b[0;36m<module>\u001b[1;34m\u001b[0m\n\u001b[0;32m     33\u001b[0m         \u001b[0mtitle_list\u001b[0m\u001b[1;33m.\u001b[0m\u001b[0mappend\u001b[0m\u001b[1;33m(\u001b[0m\u001b[0mtitle\u001b[0m\u001b[1;33m)\u001b[0m\u001b[1;33m\u001b[0m\u001b[1;33m\u001b[0m\u001b[0m\n\u001b[0;32m     34\u001b[0m         \u001b[0mdriver\u001b[0m\u001b[1;33m.\u001b[0m\u001b[0mback\u001b[0m\u001b[1;33m(\u001b[0m\u001b[1;33m)\u001b[0m\u001b[1;33m\u001b[0m\u001b[1;33m\u001b[0m\u001b[0m\n\u001b[1;32m---> 35\u001b[1;33m         \u001b[0mtime\u001b[0m\u001b[1;33m.\u001b[0m\u001b[0msleep\u001b[0m\u001b[1;33m(\u001b[0m\u001b[1;36m1\u001b[0m\u001b[1;33m)\u001b[0m\u001b[1;33m\u001b[0m\u001b[1;33m\u001b[0m\u001b[0m\n\u001b[0m\u001b[0;32m     36\u001b[0m \u001b[1;33m\u001b[0m\u001b[0m\n\u001b[0;32m     37\u001b[0m     \u001b[0mi\u001b[0m \u001b[1;33m+=\u001b[0m \u001b[1;36m1\u001b[0m\u001b[1;33m\u001b[0m\u001b[1;33m\u001b[0m\u001b[0m\n",
      "\u001b[1;31mKeyboardInterrupt\u001b[0m: "
     ]
    }
   ],
   "source": [
    "i = 1\n",
    "j = 0\n",
    "category_list = ['CTE','SPE']\n",
    "category = category_list[j]\n",
    "down_list = []\n",
    "title_list = []\n",
    "while True:\n",
    "    page = str(i)\n",
    "    print(\"i\",page) # 확인\n",
    "    url = 'http://sldict.korean.go.kr/front/sign/signList.do?current_pos_index=&origin_no=0&searchWay=&top_category='+category+'&category=&detailCategory=&searchKeyword=&pageIndex='+page+'&pageJumpIndex='\n",
    "    driver.get(url)\n",
    "    time.sleep(1)\n",
    "    num_content = driver.find_elements_by_xpath('//*[@id=\"list\"]/li/div/p[1]/span[1]/a')\n",
    "    print(len(num_content)) # 확인\n",
    "    \n",
    "    if len(num_content) == 0:\n",
    "        j += 1\n",
    "        if j == 2:\n",
    "            break\n",
    "        category = category_list[j]\n",
    "        i = 1\n",
    "        continue\n",
    "    \n",
    "    for k in range(len(num_content)):\n",
    "        print(\"k\",k) # 확인\n",
    "        driver.find_elements_by_xpath('//*[@id=\"list\"]/li/div/p[1]/span[1]/a')[k].click()\n",
    "        time.sleep(1)\n",
    "        down_url = driver.find_element_by_xpath('//*[@id=\"html5Video\"]/source[2]').get_attribute('src')\n",
    "        title = driver.find_element_by_xpath('//*[@id=\"signViewForm\"]/dl/dd[1]').text\n",
    "        title = re.sub('[^가-힣]','',title)\n",
    "        print(down_url, title)\n",
    "        down_list.append(down_url)\n",
    "        title_list.append(title)\n",
    "        driver.back()\n",
    "        time.sleep(1)\n",
    "            \n",
    "    i += 1\n",
    "    print(i)"
   ]
  }
 ],
 "metadata": {
  "kernelspec": {
   "display_name": "Python 3",
   "language": "python",
   "name": "python3"
  },
  "language_info": {
   "codemirror_mode": {
    "name": "ipython",
    "version": 3
   },
   "file_extension": ".py",
   "mimetype": "text/x-python",
   "name": "python",
   "nbconvert_exporter": "python",
   "pygments_lexer": "ipython3",
   "version": "3.8.3"
  }
 },
 "nbformat": 4,
 "nbformat_minor": 4
}
