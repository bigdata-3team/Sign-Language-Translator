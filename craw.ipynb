{
 "cells": [
  {
   "cell_type": "code",
   "execution_count": 36,
   "metadata": {},
   "outputs": [],
   "source": [
    "import time\n",
    "from selenium import webdriver\n",
    "import urllib.request\n",
    "import re\n",
    "from string import punctuation"
   ]
  },
  {
   "cell_type": "code",
   "execution_count": 83,
   "metadata": {},
   "outputs": [],
   "source": [
    "driver = webdriver.Chrome('/Users/SeongMin/chromedriver.exe')"
   ]
  },
  {
   "cell_type": "code",
   "execution_count": 181,
   "metadata": {
    "scrolled": true
   },
   "outputs": [
    {
     "name": "stdout",
     "output_type": "stream",
     "text": [
      "i 1\n",
      "k 0\n",
      "http://sldict.korean.go.kr/multimedia/multimedia_files/convert/20160103/239422/MOV000249336_700X466.mp4 가감\n",
      "k 1\n",
      "http://sldict.korean.go.kr/multimedia/multimedia_files/convert/20160103/239423/MOV000249338_700X466.mp4 가건물\n",
      "k 2\n",
      "http://sldict.korean.go.kr/multimedia/multimedia_files/convert/20160103/239424/MOV000249340_700X466.mp4 가게\n",
      "k 3\n",
      "http://sldict.korean.go.kr/multimedia/multimedia_files/convert/20160924/345535/MOV000243762_700X466.mp4 가격\n",
      "k 4\n",
      "http://sldict.korean.go.kr/multimedia/multimedia_files/convert/20160924/346901/MOV000260210_700X466.mp4 가격\n",
      "k 5\n",
      "http://sldict.korean.go.kr/multimedia/multimedia_files/convert/20151210/225000/MOV000241243_700X466.mp4 가격표\n",
      "k 6\n",
      "http://sldict.korean.go.kr/multimedia/multimedia_files/convert/20160103/239425/MOV000249342_700X466.mp4 가결\n",
      "k 7\n",
      "http://sldict.korean.go.kr/multimedia/multimedia_files/convert/20160103/239426/MOV000249344_700X466.mp4 가계\n",
      "k 8\n",
      "http://sldict.korean.go.kr/multimedia/multimedia_files/convert/20151210/225254/MOV000241354_700X466.mp4 가계부\n",
      "k 9\n",
      "http://sldict.korean.go.kr/multimedia/multimedia_files/convert/20160103/239427/MOV000249346_700X466.mp4 가곡\n",
      "2\n",
      "i 2\n",
      "k 0\n"
     ]
    },
    {
     "ename": "KeyboardInterrupt",
     "evalue": "",
     "output_type": "error",
     "traceback": [
      "\u001b[1;31m---------------------------------------------------------------------------\u001b[0m",
      "\u001b[1;31mKeyboardInterrupt\u001b[0m                         Traceback (most recent call last)",
      "\u001b[1;32m<ipython-input-181-982fbb69cd4e>\u001b[0m in \u001b[0;36m<module>\u001b[1;34m\u001b[0m\n\u001b[0;32m     12\u001b[0m         \u001b[0mprint\u001b[0m\u001b[1;33m(\u001b[0m\u001b[1;34m\"k\"\u001b[0m\u001b[1;33m,\u001b[0m\u001b[0mk\u001b[0m\u001b[1;33m)\u001b[0m \u001b[1;31m# 확인\u001b[0m\u001b[1;33m\u001b[0m\u001b[1;33m\u001b[0m\u001b[0m\n\u001b[0;32m     13\u001b[0m         \u001b[0mdriver\u001b[0m\u001b[1;33m.\u001b[0m\u001b[0mfind_elements_by_xpath\u001b[0m\u001b[1;33m(\u001b[0m\u001b[1;34m'//*[@id=\"list\"]/li/div/p[1]/span[1]/a'\u001b[0m\u001b[1;33m)\u001b[0m\u001b[1;33m[\u001b[0m\u001b[0mk\u001b[0m\u001b[1;33m]\u001b[0m\u001b[1;33m.\u001b[0m\u001b[0mclick\u001b[0m\u001b[1;33m(\u001b[0m\u001b[1;33m)\u001b[0m\u001b[1;33m\u001b[0m\u001b[1;33m\u001b[0m\u001b[0m\n\u001b[1;32m---> 14\u001b[1;33m         \u001b[0mtime\u001b[0m\u001b[1;33m.\u001b[0m\u001b[0msleep\u001b[0m\u001b[1;33m(\u001b[0m\u001b[1;36m5\u001b[0m\u001b[1;33m)\u001b[0m\u001b[1;33m\u001b[0m\u001b[1;33m\u001b[0m\u001b[0m\n\u001b[0m\u001b[0;32m     15\u001b[0m         \u001b[0mdown_url\u001b[0m \u001b[1;33m=\u001b[0m \u001b[0mdriver\u001b[0m\u001b[1;33m.\u001b[0m\u001b[0mfind_element_by_xpath\u001b[0m\u001b[1;33m(\u001b[0m\u001b[1;34m'//*[@id=\"html5Video\"]/source[2]'\u001b[0m\u001b[1;33m)\u001b[0m\u001b[1;33m.\u001b[0m\u001b[0mget_attribute\u001b[0m\u001b[1;33m(\u001b[0m\u001b[1;34m'src'\u001b[0m\u001b[1;33m)\u001b[0m\u001b[1;33m\u001b[0m\u001b[1;33m\u001b[0m\u001b[0m\n\u001b[0;32m     16\u001b[0m         \u001b[0mtitle\u001b[0m \u001b[1;33m=\u001b[0m \u001b[0mdriver\u001b[0m\u001b[1;33m.\u001b[0m\u001b[0mfind_element_by_xpath\u001b[0m\u001b[1;33m(\u001b[0m\u001b[1;34m'//*[@id=\"signViewForm\"]/dl/dd[1]'\u001b[0m\u001b[1;33m)\u001b[0m\u001b[1;33m.\u001b[0m\u001b[0mtext\u001b[0m\u001b[1;33m\u001b[0m\u001b[1;33m\u001b[0m\u001b[0m\n",
      "\u001b[1;31mKeyboardInterrupt\u001b[0m: "
     ]
    }
   ],
   "source": [
    "i = 1\n",
    "down_list = []\n",
    "title_list = []\n",
    "while True:\n",
    "    page = str(i)\n",
    "    print(\"i\",page) # 확인\n",
    "    url = 'http://sldict.korean.go.kr/front/sign/signList.do?current_pos_index=&origin_no=0&searchWay=&top_category=CTE&category=&detailCategory=&searchKeyword=&pageIndex='+page+'&pageJumpIndex='\n",
    "    driver.get(url)\n",
    "    time.sleep(5)\n",
    "    num_content = driver.find_elements_by_xpath('//*[@id=\"list\"]/li/div/p[1]/span[1]/a')\n",
    "    for k in range(len(num_content)):\n",
    "        print(\"k\",k) # 확인\n",
    "        driver.find_elements_by_xpath('//*[@id=\"list\"]/li/div/p[1]/span[1]/a')[k].click()\n",
    "        time.sleep(5)\n",
    "        down_url = driver.find_element_by_xpath('//*[@id=\"html5Video\"]/source[2]').get_attribute('src')\n",
    "        title = driver.find_element_by_xpath('//*[@id=\"signViewForm\"]/dl/dd[1]').text\n",
    "        title = re.sub('[^가-힣]','',title)\n",
    "        print(down_url, title)\n",
    "        down_list.append(down_url)\n",
    "        title_list.append(title)\n",
    "        driver.back()\n",
    "        time.sleep(5)\n",
    "    i += 1\n",
    "    print(i)\n",
    "    if i == 3:\n",
    "        break"
   ]
  }
 ],
 "metadata": {
  "kernelspec": {
   "display_name": "Python 3",
   "language": "python",
   "name": "python3"
  },
  "language_info": {
   "codemirror_mode": {
    "name": "ipython",
    "version": 3
   },
   "file_extension": ".py",
   "mimetype": "text/x-python",
   "name": "python",
   "nbconvert_exporter": "python",
   "pygments_lexer": "ipython3",
   "version": "3.8.3"
  }
 },
 "nbformat": 4,
 "nbformat_minor": 4
}
